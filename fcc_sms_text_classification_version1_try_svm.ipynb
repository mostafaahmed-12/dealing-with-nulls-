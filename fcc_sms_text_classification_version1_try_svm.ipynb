{
  "cells": [
    {
      "cell_type": "code",
      "execution_count": null,
      "metadata": {
        "id": "8RZOuS9LWQvv"
      },
      "outputs": [],
      "source": [
        "# import libraries\n",
        "try:\n",
        "  # %tensorflow_version only exists in Colab.\n",
        "  !pip install tf-nightly\n",
        "except Exception:\n",
        "  pass\n",
        "import tensorflow as tf\n",
        "import pandas as pd\n",
        "from tensorflow import keras\n",
        "!pip install tensorflow-datasets\n",
        "import tensorflow_datasets as tfds\n",
        "import numpy as np\n",
        "import matplotlib.pyplot as plt\n",
        "\n",
        "print(tf.__version__)"
      ]
    },
    {
      "cell_type": "code",
      "execution_count": null,
      "metadata": {
        "id": "lMHwYXHXCar3"
      },
      "outputs": [],
      "source": [
        "# get data files\n",
        "!wget https://cdn.freecodecamp.org/project-data/sms/train-data.tsv\n",
        "!wget https://cdn.freecodecamp.org/project-data/sms/valid-data.tsv\n",
        "\n",
        "train_file_path = \"train-data.tsv\"\n",
        "test_file_path = \"valid-data.tsv\""
      ]
    },
    {
      "cell_type": "code",
      "execution_count": null,
      "metadata": {
        "id": "g_h508FEClxO"
      },
      "outputs": [],
      "source": [
        "import pandas as pd\n",
        "import nltk\n",
        "from nltk.corpus import stopwords\n",
        "import string\n",
        "from nltk.stem import WordNetLemmatizer\n",
        "from nltk.tokenize import word_tokenize\n",
        "from nltk.corpus import wordnet\n",
        "nltk.download('punkt')\n",
        "nltk.download('stopwords')\n",
        "nltk.download('wordnet')\n",
        "nltk.download('averaged_perceptron_tagger')\n",
        "traindata=pd.read_csv(train_file_path, sep=\"\\t\", header=None, names=[\"type\", \"msg\"])\n",
        "testdata= pd.read_csv(test_file_path, sep=\"\\t\", header=None, names=[\"type\", \"msg\"])"
      ]
    },
    {
      "cell_type": "code",
      "execution_count": null,
      "metadata": {
        "id": "zOMKywn4zReN"
      },
      "outputs": [],
      "source": [
        "traindata.head()"
      ]
    },
    {
      "cell_type": "code",
      "source": [
        "testdata.head()"
      ],
      "metadata": {
        "id": "egkAGuuJATYi"
      },
      "execution_count": null,
      "outputs": []
    },
    {
      "cell_type": "code",
      "source": [
        "def pr(x):\n",
        "   x=x.lower()\n",
        "   tokens=nltk.word_tokenize(x)\n",
        "   stop_words=set(stopwords.words('english'))\n",
        "   punctuations = string.punctuation\n",
        "   tagged_tokens = nltk.pos_tag(tokens)\n",
        "   lemmatizer = WordNetLemmatizer()\n",
        "   lemmas = []\n",
        "   for token, tag in tagged_tokens:\n",
        "     if token not in stop_words and token not in punctuations:\n",
        "        pos = tag[0].lower() if tag[0].lower() in ['a', 'r', 'n', 'v'] else wordnet.NOUN\n",
        "        lemma = lemmatizer.lemmatize(token, pos=pos)\n",
        "        lemmas.append(lemma)\n",
        "\n",
        "   filtered_sentence = ' '.join(lemmas)\n",
        "   return filtered_sentence"
      ],
      "metadata": {
        "id": "wcC1WAta_ikj"
      },
      "execution_count": null,
      "outputs": []
    },
    {
      "cell_type": "code",
      "source": [
        "traindata['msg'] = traindata['msg'].apply(pr)\n",
        "traindata.head()"
      ],
      "metadata": {
        "id": "gLGTMGyaHn3s"
      },
      "execution_count": null,
      "outputs": []
    },
    {
      "cell_type": "code",
      "source": [
        "testdata['msg'] = testdata['msg'].apply(pr)\n",
        "testdata.head()"
      ],
      "metadata": {
        "id": "yK7sys-kIbSA"
      },
      "execution_count": null,
      "outputs": []
    },
    {
      "cell_type": "code",
      "source": [
        "import matplotlib.pyplot as plt\n",
        "from imblearn.under_sampling import RandomUnderSampler\n",
        "traindata['type'].value_counts().plot(kind='bar')\n",
        "rus = RandomUnderSampler(sampling_strategy='majority')\n",
        "X_resampled, y_resampled = rus.fit_resample(traindata[['msg']], traindata[['type']])"
      ],
      "metadata": {
        "id": "bp04x6s3SMpw"
      },
      "execution_count": null,
      "outputs": []
    },
    {
      "cell_type": "code",
      "source": [
        "y_resampled.value_counts().plot(kind='bar')\n"
      ],
      "metadata": {
        "id": "xgIMnp3GUik3"
      },
      "execution_count": null,
      "outputs": []
    },
    {
      "cell_type": "code",
      "source": [
        "x_train=X_resampled['msg']\n",
        "y_train=y_resampled['type']\n",
        "print(x_train.shape)\n",
        "print(y_train.shape)"
      ],
      "metadata": {
        "id": "t7FHz0R1Vwnb"
      },
      "execution_count": null,
      "outputs": []
    },
    {
      "cell_type": "code",
      "source": [
        "x_train"
      ],
      "metadata": {
        "id": "-tEc4241JEJJ"
      },
      "execution_count": null,
      "outputs": []
    },
    {
      "cell_type": "code",
      "source": [
        "y_train.value_counts()"
      ],
      "metadata": {
        "id": "T3RlvkvzZmUs"
      },
      "execution_count": null,
      "outputs": []
    },
    {
      "cell_type": "code",
      "source": [
        "from sklearn.feature_extraction.text import TfidfVectorizer\n",
        "vectorizer = TfidfVectorizer()\n",
        "vectorizer.fit(x_train)\n",
        "X_tfidf=vectorizer.transform(x_train)\n",
        "x=X_tfidf"
      ],
      "metadata": {
        "id": "Ew0rbpP5Ioon"
      },
      "execution_count": null,
      "outputs": []
    },
    {
      "cell_type": "code",
      "source": [
        "x.shape\n",
        "x_train=x"
      ],
      "metadata": {
        "id": "gMJiqUY5Xunx"
      },
      "execution_count": null,
      "outputs": []
    },
    {
      "cell_type": "code",
      "source": [
        "df_train_tfidf = pd.DataFrame.sparse.from_spmatrix(x_train, columns=vectorizer.vocabulary_.keys())"
      ],
      "metadata": {
        "id": "P2hFu35uLAth"
      },
      "execution_count": null,
      "outputs": []
    },
    {
      "cell_type": "code",
      "source": [
        "label_mapper = lambda x: 1 if x == 'spam' else 0\n",
        "testdata['type'] = testdata['type'].map(label_mapper)\n",
        "x_test=testdata[['msg']]\n",
        "y_test=testdata['type']\n",
        "\n",
        "x_test"
      ],
      "metadata": {
        "id": "ujCfJDuKN_AA"
      },
      "execution_count": null,
      "outputs": []
    },
    {
      "cell_type": "code",
      "source": [
        "X_tfidf_test = vectorizer.transform(testdata['msg'])\n",
        "x_test=X_tfidf_test"
      ],
      "metadata": {
        "id": "NQCMB08uOpiu"
      },
      "execution_count": null,
      "outputs": []
    },
    {
      "cell_type": "code",
      "source": [
        "df_x_test_tfidf = pd.DataFrame.sparse.from_spmatrix(x_test, columns=vectorizer.vocabulary_.keys())"
      ],
      "metadata": {
        "id": "k8WSWLEiPC5u"
      },
      "execution_count": null,
      "outputs": []
    },
    {
      "cell_type": "code",
      "source": [
        "x_train=df_train_tfidf\n",
        "x_test=df_x_test_tfidf"
      ],
      "metadata": {
        "id": "f8XEszclPMOS"
      },
      "execution_count": null,
      "outputs": []
    },
    {
      "cell_type": "code",
      "source": [
        "x_train"
      ],
      "metadata": {
        "id": "bOXi8kR5Qa0f"
      },
      "execution_count": null,
      "outputs": []
    },
    {
      "cell_type": "code",
      "source": [
        "x_test"
      ],
      "metadata": {
        "id": "Cfzvg4pMQlW6"
      },
      "execution_count": null,
      "outputs": []
    },
    {
      "cell_type": "code",
      "source": [
        "y_train.value_counts()"
      ],
      "metadata": {
        "id": "T8TlmNsUR8G4"
      },
      "execution_count": null,
      "outputs": []
    },
    {
      "cell_type": "code",
      "source": [
        "\n",
        "\n",
        "print(x_train.shape)\n",
        "print(y_train.shape)"
      ],
      "metadata": {
        "id": "yUtuCJ0CR8NB"
      },
      "execution_count": null,
      "outputs": []
    },
    {
      "cell_type": "code",
      "source": [
        "from sklearn import svm\n",
        "from sklearn.metrics import accuracy_score, confusion_matrix\n",
        "import numpy as np\n",
        "clf = svm.SVC(kernel='linear')\n",
        "clf.fit(x_train,y_train)\n",
        "y_pred = clf.predict(x_train)\n",
        "y_testp = clf.predict(x_test)\n",
        "acc_score = accuracy_score(y_train, y_pred)\n",
        "acc_scoret = accuracy_score(y_test, y_testp)\n",
        "print('Accuracy score train :', acc_score)\n",
        "print('Accuracy score test :', acc_scoret)"
      ],
      "metadata": {
        "id": "w5GdjgJjOiQv"
      },
      "execution_count": null,
      "outputs": []
    },
    {
      "cell_type": "code",
      "source": [
        "from google.colab import drive\n",
        "drive.mount('/content/drive')"
      ],
      "metadata": {
        "id": "J_jZDUDVa8Qq"
      },
      "execution_count": null,
      "outputs": []
    },
    {
      "cell_type": "code",
      "execution_count": null,
      "metadata": {
        "id": "J9tD9yACG6M9"
      },
      "outputs": [],
      "source": [
        "# function to predict messages based on model\n",
        "# (should return list containing prediction and label, ex. [0.008318834938108921, 'ham'])\n",
        "\n",
        "def predict_message(pred_text):\n",
        "  pred_text =[pr(pred_text)]\n",
        "  X_tfidf_test = vectorizer.transform(pred_text)\n",
        "  y_pred = clf.predict(X_tfidf_test)\n",
        "  if y_pred<0.5:\n",
        "    return [y_pred[0],'ham']\n",
        "  else:\n",
        "      return [y_pred[0],'spam']\n",
        "\n",
        "\n",
        "pred_text = \"how are you doing today?\"\n",
        "\n",
        "prediction = predict_message(pred_text)\n",
        "print(prediction)"
      ]
    },
    {
      "cell_type": "code",
      "execution_count": null,
      "metadata": {
        "id": "Dxotov85SjsC"
      },
      "outputs": [],
      "source": [
        "# Run this cell to test your function and model. Do not modify contents.\n",
        "def test_predictions():\n",
        "  test_messages = [\"how are you doing today\",\n",
        "                   \"sale today! to stop texts call 98912460324\",\n",
        "                   \"i dont want to go. can we try it a different day? available sat\",\n",
        "                   \"our new mobile video service is live. just install on your phone to start watching.\",\n",
        "                   \"you have won £1000 cash! call to claim your prize.\",\n",
        "                   \"i'll bring it tomorrow. don't forget the milk.\",\n",
        "                   \"wow, is your arm alright. that happened to me one time too\"\n",
        "                  ]\n",
        "\n",
        "  test_answers = [\"ham\", \"spam\", \"ham\", \"spam\", \"spam\", \"ham\", \"ham\"]\n",
        "  passed = True\n",
        "\n",
        "  for msg, ans in zip(test_messages, test_answers):\n",
        "    prediction = predict_message(msg)\n",
        "    if prediction[1] != ans:\n",
        "      passed = False\n",
        "\n",
        "  if passed:\n",
        "    print(\"You passed the challenge. Great job!\")\n",
        "  else:\n",
        "    print(\"You haven't passed yet. Keep trying.\")\n",
        "\n",
        "test_predictions()\n"
      ]
    }
  ],
  "metadata": {
    "colab": {
      "name": "fcc_sms_text_classification.ipynb",
      "private_outputs": true,
      "provenance": []
    },
    "kernelspec": {
      "display_name": "Python 3",
      "name": "python3"
    },
    "language_info": {}
  },
  "nbformat": 4,
  "nbformat_minor": 0
}